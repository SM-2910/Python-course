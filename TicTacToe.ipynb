{
 "cells": [
  {
   "cell_type": "code",
   "execution_count": 7,
   "metadata": {},
   "outputs": [],
   "source": [
    "\n",
    "def Board(player1,player2):\n",
    "    y=0\n",
    "    for x in range(1,6):\n",
    "        if(x%2!=0):\n",
    "            for _ in range(0,3):\n",
    "                y=y+1\n",
    "                if y in player1:\n",
    "                    if(y%3==0):\n",
    "                        print(' X ', end = ''),\n",
    "                    else:\n",
    "                        print(' X |', end = ''),\n",
    "                elif y in player2:\n",
    "                    if(y%3==0):\n",
    "                        print(' O ', end = ''),\n",
    "                    else:\n",
    "                        print(' O |', end = ''),\n",
    "                else:\n",
    "                    if(y%3==0):\n",
    "                        print('   ', end = ''),\n",
    "                    else:\n",
    "                        print('   |', end = ''),\n",
    "            print()\n",
    "        else:\n",
    "            print('-----------')"
   ]
  },
  {
   "cell_type": "code",
   "execution_count": 8,
   "metadata": {},
   "outputs": [],
   "source": [
    "winlist= [(1,2,3),(4,5,6),(7,8,9),(1,4,7),(2,5,8),(3,6,9),(1,5,9),(3,5,7)]"
   ]
  },
  {
   "cell_type": "code",
   "execution_count": 9,
   "metadata": {},
   "outputs": [],
   "source": [
    "def decidetest(list1,winlist):\n",
    "    for item in winlist:\n",
    "        for letter in item:\n",
    "            #print (letter)\n",
    "            if letter in list1:\n",
    "                flag=1\n",
    "            else:\n",
    "                flag=0\n",
    "                break\n",
    "        if flag == 1:\n",
    "            return True"
   ]
  },
  {
   "cell_type": "code",
   "execution_count": 10,
   "metadata": {},
   "outputs": [
    {
     "name": "stdout",
     "output_type": "stream",
     "text": [
      "Lets begin the game of Tic-Tac-Toe\n",
      "enter the name of player 1sahil\n",
      "enter the name of player 2praveen\n",
      "   |   |   \n",
      "-----------\n",
      "   |   |   \n",
      "-----------\n",
      "   |   |   \n",
      "enter the position of X1\n",
      " X |   |   \n",
      "-----------\n",
      "   |   |   \n",
      "-----------\n",
      "   |   |   \n",
      "enter the position of O5\n",
      " X |   |   \n",
      "-----------\n",
      "   | O |   \n",
      "-----------\n",
      "   |   |   \n",
      "enter the position of X3\n",
      " X |   | X \n",
      "-----------\n",
      "   | O |   \n",
      "-----------\n",
      "   |   |   \n",
      "enter the position of O7\n",
      " X |   | X \n",
      "-----------\n",
      "   | O |   \n",
      "-----------\n",
      " O |   |   \n",
      "enter the position of X9\n",
      " X |   | X \n",
      "-----------\n",
      "   | O |   \n",
      "-----------\n",
      " O |   | X \n",
      "enter the position of O2\n",
      " X | O | X \n",
      "-----------\n",
      "   | O |   \n",
      "-----------\n",
      " O |   | X \n",
      "enter the position of X6\n",
      " X | O | X \n",
      "-----------\n",
      "   | O | X \n",
      "-----------\n",
      " O |   | X \n",
      "sahil won the game\n"
     ]
    }
   ],
   "source": [
    "\n",
    "print('Lets begin the game of Tic-Tac-Toe')\n",
    "replay = False\n",
    "name1=input('enter the name of player 1')\n",
    "name2=input('enter the name of player 2')\n",
    "player1=[0]\n",
    "player2=[0]\n",
    "Board(player1,player2)\n",
    "while(replay!=True):\n",
    "    player1.append(int(input('enter the position of X')))\n",
    "    replay=decidetest(player1,winlist)\n",
    "    Board(player1,player2)\n",
    "    if(replay==True):\n",
    "        print(name1+' won the game')\n",
    "        break\n",
    "    \n",
    "    player2.append(int(input('enter the position of O')))\n",
    "    Board(player1,player2)\n",
    "    replay=decidetest(player2,winlist)\n",
    "    if(replay==True):\n",
    "        print(name2+' won the game')\n",
    "        break"
   ]
  },
  {
   "cell_type": "code",
   "execution_count": null,
   "metadata": {},
   "outputs": [],
   "source": []
  }
 ],
 "metadata": {
  "kernelspec": {
   "display_name": "Python 3",
   "language": "python",
   "name": "python3"
  },
  "language_info": {
   "codemirror_mode": {
    "name": "ipython",
    "version": 3
   },
   "file_extension": ".py",
   "mimetype": "text/x-python",
   "name": "python",
   "nbconvert_exporter": "python",
   "pygments_lexer": "ipython3",
   "version": "3.7.3"
  }
 },
 "nbformat": 4,
 "nbformat_minor": 2
}
